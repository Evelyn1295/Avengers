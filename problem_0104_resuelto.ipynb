{
  "nbformat": 4,
  "nbformat_minor": 0,
  "metadata": {
    "kernelspec": {
      "display_name": "Python 3",
      "language": "python",
      "name": "python3"
    },
    "language_info": {
      "codemirror_mode": {
        "name": "ipython",
        "version": 3
      },
      "file_extension": ".py",
      "mimetype": "text/x-python",
      "name": "python",
      "nbconvert_exporter": "python",
      "pygments_lexer": "ipython3",
      "version": "3.7.4"
    },
    "colab": {
      "name": "problem_0104.ipynb",
      "provenance": [],
      "toc_visible": true,
      "include_colab_link": true
    }
  },
  "cells": [
    {
      "cell_type": "markdown",
      "metadata": {
        "id": "view-in-github",
        "colab_type": "text"
      },
      "source": [
        "<a href=\"https://colab.research.google.com/github/Evelyn1295/Avengers/blob/master/problem_0104_resuelto.ipynb\" target=\"_parent\"><img src=\"https://colab.research.google.com/assets/colab-badge.svg\" alt=\"Open In Colab\"/></a>"
      ]
    },
    {
      "cell_type": "markdown",
      "metadata": {
        "id": "l_I2elCKjQDt"
      },
      "source": [
        "## Prueba #0104 "
      ]
    },
    {
      "cell_type": "markdown",
      "metadata": {
        "id": "5zq8Ob65jQD3"
      },
      "source": [
        "#### Codifique la clase 'Acuario' que genera el resultado como se muestra."
      ]
    },
    {
      "cell_type": "code",
      "metadata": {
        "id": "cDMp-600jQD4"
      },
      "source": [
        "class Aquarium:\n",
        "\n",
        "  def __init__(self):\n",
        "      global animals\n",
        "      animals = []\n",
        "      print(\"An Aquarium has opened!\")\n",
        "\n",
        "  @staticmethod\n",
        "  def enters(animal):\n",
        "    global animals\n",
        "    if len(animals)==0 or animal not in animals:\n",
        "      animals.append(animal)\n",
        "      print(\"{} is a new member of our Aquarium!\".format(animal))\n",
        "\n",
        "    else:\n",
        "      print(\"We already have {}.\".format(animal))\n",
        "  \n",
        "  @staticmethod\n",
        "  def show_all():\n",
        "    print(animals)\n",
        "\n",
        "  @staticmethod\n",
        "  def leaves(animal):\n",
        "    if animal not in animals:\n",
        "      print(\"No such sea creature in the Aquarium!\")\n",
        "\n",
        "    else:\n",
        "      animals.remove(animal)\n",
        "\n",
        "    \n",
        "    \n",
        "    "
      ],
      "execution_count": 63,
      "outputs": []
    },
    {
      "cell_type": "markdown",
      "metadata": {
        "id": "ungdaiQ7jQD5"
      },
      "source": [
        "Resultados de la prueba:"
      ]
    },
    {
      "cell_type": "code",
      "metadata": {
        "colab": {
          "base_uri": "https://localhost:8080/"
        },
        "id": "EM5U5Ws1jQD6",
        "outputId": "b672044e-8483-41fd-e2d5-240be40f759d"
      },
      "source": [
        "my_aquarium = Aquarium()"
      ],
      "execution_count": 64,
      "outputs": [
        {
          "output_type": "stream",
          "text": [
            "An Aquarium has opened!\n"
          ],
          "name": "stdout"
        }
      ]
    },
    {
      "cell_type": "code",
      "metadata": {
        "colab": {
          "base_uri": "https://localhost:8080/"
        },
        "id": "l0X2Jza3jQD7",
        "outputId": "12e4910f-4ab8-4438-a5b9-434f1cabfc57"
      },
      "source": [
        "my_aquarium.enters('Turtle')"
      ],
      "execution_count": 65,
      "outputs": [
        {
          "output_type": "stream",
          "text": [
            "Turtle is a new member of our Aquarium!\n"
          ],
          "name": "stdout"
        }
      ]
    },
    {
      "cell_type": "code",
      "metadata": {
        "colab": {
          "base_uri": "https://localhost:8080/"
        },
        "id": "VZaYvAb6jQD9",
        "outputId": "515ec2b5-6cb4-4d48-f473-b92ff750e44e"
      },
      "source": [
        "my_aquarium.enters('Turtle')"
      ],
      "execution_count": 66,
      "outputs": [
        {
          "output_type": "stream",
          "text": [
            "We already have Turtle.\n"
          ],
          "name": "stdout"
        }
      ]
    },
    {
      "cell_type": "code",
      "metadata": {
        "colab": {
          "base_uri": "https://localhost:8080/"
        },
        "id": "Jtot8Hv4jQD-",
        "outputId": "ea890ebf-9e10-4314-8dfd-9e3819f56d22"
      },
      "source": [
        "my_aquarium.enters('Dolphin')"
      ],
      "execution_count": 67,
      "outputs": [
        {
          "output_type": "stream",
          "text": [
            "Dolphin is a new member of our Aquarium!\n"
          ],
          "name": "stdout"
        }
      ]
    },
    {
      "cell_type": "code",
      "metadata": {
        "colab": {
          "base_uri": "https://localhost:8080/"
        },
        "id": "cHCIufwWjQD_",
        "outputId": "c6b5bc40-19c9-4745-c3a7-aaa5f4c040de"
      },
      "source": [
        "my_aquarium.enters('Sea Lion')"
      ],
      "execution_count": 68,
      "outputs": [
        {
          "output_type": "stream",
          "text": [
            "Sea Lion is a new member of our Aquarium!\n"
          ],
          "name": "stdout"
        }
      ]
    },
    {
      "cell_type": "code",
      "metadata": {
        "colab": {
          "base_uri": "https://localhost:8080/"
        },
        "id": "ZitjOf5GjQEA",
        "outputId": "c06234ee-55f7-4f1f-9232-6f45b0d03afb"
      },
      "source": [
        "my_aquarium.enters('Shark')"
      ],
      "execution_count": 69,
      "outputs": [
        {
          "output_type": "stream",
          "text": [
            "Shark is a new member of our Aquarium!\n"
          ],
          "name": "stdout"
        }
      ]
    },
    {
      "cell_type": "code",
      "metadata": {
        "colab": {
          "base_uri": "https://localhost:8080/"
        },
        "id": "lxScG7cajQEA",
        "outputId": "0f51d810-5a46-4d03-ac0a-4e65d895d982"
      },
      "source": [
        "my_aquarium.show_all()"
      ],
      "execution_count": 70,
      "outputs": [
        {
          "output_type": "stream",
          "text": [
            "['Turtle', 'Dolphin', 'Sea Lion', 'Shark']\n"
          ],
          "name": "stdout"
        }
      ]
    },
    {
      "cell_type": "code",
      "metadata": {
        "id": "_o5ESF-ZjQEA"
      },
      "source": [
        "my_aquarium.leaves(\"Sea Lion\")"
      ],
      "execution_count": 71,
      "outputs": []
    },
    {
      "cell_type": "code",
      "metadata": {
        "colab": {
          "base_uri": "https://localhost:8080/"
        },
        "id": "LFMRKBmtjQEB",
        "outputId": "5dbb3630-3852-4485-b026-e2918b713db5"
      },
      "source": [
        "my_aquarium.leaves(\"Killer Whale\")"
      ],
      "execution_count": 72,
      "outputs": [
        {
          "output_type": "stream",
          "text": [
            "No such sea creature in the Aquarium!\n"
          ],
          "name": "stdout"
        }
      ]
    },
    {
      "cell_type": "code",
      "metadata": {
        "colab": {
          "base_uri": "https://localhost:8080/"
        },
        "id": "t0lRZ2f9jQEB",
        "outputId": "d48a22c1-84c5-49d8-cd7a-e8a946f9c81c"
      },
      "source": [
        "my_aquarium.show_all()"
      ],
      "execution_count": 73,
      "outputs": [
        {
          "output_type": "stream",
          "text": [
            "['Turtle', 'Dolphin', 'Shark']\n"
          ],
          "name": "stdout"
        }
      ]
    },
    {
      "cell_type": "code",
      "metadata": {
        "id": "RGlFOtTWjQEC"
      },
      "source": [
        "my_aquarium.leaves(\"Turtle\")"
      ],
      "execution_count": 74,
      "outputs": []
    },
    {
      "cell_type": "code",
      "metadata": {
        "colab": {
          "base_uri": "https://localhost:8080/"
        },
        "id": "x7C3_TnHjQEC",
        "outputId": "774d9e50-10d4-486d-bbdc-8850ca2ebd2c"
      },
      "source": [
        "my_aquarium.show_all()"
      ],
      "execution_count": 75,
      "outputs": [
        {
          "output_type": "stream",
          "text": [
            "['Dolphin', 'Shark']\n"
          ],
          "name": "stdout"
        }
      ]
    }
  ]
}